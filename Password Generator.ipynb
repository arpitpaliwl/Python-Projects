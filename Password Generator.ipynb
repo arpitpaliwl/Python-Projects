{
 "cells": [
  {
   "cell_type": "code",
   "execution_count": 10,
   "metadata": {},
   "outputs": [
    {
     "name": "stdout",
     "output_type": "stream",
     "text": [
      "Welcome to the Pali Password Generator!\n",
      "How many letters would you like in your password?\n",
      "14\n",
      "How many symbols would you like?\n",
      "2\n",
      "How many numbers would you like?\n",
      "3\n",
      "Your password is: kFYEZ5Xoznh(ZN+ZY13\n"
     ]
    }
   ],
   "source": [
    "import random\n",
    "\n",
    "letters = ['a', 'b', 'c', 'd', 'e', 'f', 'g', 'h', 'i', 'j', 'k', 'l', 'm', 'n', 'o', 'p', 'q', 'r', 's', 't', 'u', 'v', 'w', 'x', 'y', 'z', \n",
    "           'A', 'B', 'C', 'D', 'E', 'F', 'G', 'H', 'I', 'J', 'K', 'L', 'M', 'N', 'O', 'P', 'Q', 'R', 'S', 'T', 'U', 'V', 'W', 'X', 'Y', 'Z']\n",
    "numbers = ['0', '1', '2', '3', '4', '5', '6', '7', '8', '9']\n",
    "symbols = ['!', '#', '$', '%', '&', '(', ')', '*', '+']\n",
    "\n",
    "print(\"Welcome to the Pali Password Generator!\")\n",
    "#Prompt for user to enter the count of number required in the password\n",
    "letters_count= int(input(\"How many letters would you like in your password?\\n\")) \n",
    "\n",
    "#Prompt for the user to enter the count of symbols they would like to use\n",
    "symbols_count = int(input(f\"How many symbols would you like?\\n\"))\n",
    "\n",
    "#Prompt for user to enter the count of number they would like to use\n",
    "numbers_count = int(input(f\"How many numbers would you like?\\n\"))\n",
    "\n",
    "\n",
    "#Easy Level for Password Creation without shuffle\n",
    "#password=\"\" #Password as an empty string\n",
    "\n",
    "#for char in range(1,letters_count+1):\n",
    " #   password+=random.choice(letters)\n",
    "\n",
    "#for symb in range(1,symbols_count+1):\n",
    " #   password+=random.choice(symbols)\n",
    "\n",
    "#for num in range(1,numbers_count+1):\n",
    " #   password+=random.choice(numbers)\n",
    "      \n",
    "#print(string_utils.shuffle(password)\n",
    "\n",
    "#Hard Level for Paasword cration with shuffle\n",
    "\n",
    "password= [] #Password as an empty list\n",
    "\n",
    "for char in range(1,letters_count+1):\n",
    "    password+=random.choice(letters)\n",
    "\n",
    "for symb in range(1,symbols_count+1):\n",
    "    password+=random.choice(symbols)\n",
    "\n",
    "for num in range(1,numbers_count+1):\n",
    "    password+=random.choice(numbers)\n",
    "\n",
    "#print(password)\n",
    "random.shuffle(password)        \n",
    "#print(password)\n",
    "\n",
    "#Taking out password from the above list\n",
    "psw=\"\"\n",
    "for each in password:\n",
    "    psw+=each\n",
    "print(f\"Your password is: {psw}\")\n"
   ]
  },
  {
   "cell_type": "code",
   "execution_count": null,
   "metadata": {},
   "outputs": [],
   "source": []
  }
 ],
 "metadata": {
  "kernelspec": {
   "display_name": "Python 3",
   "language": "python",
   "name": "python3"
  },
  "language_info": {
   "codemirror_mode": {
    "name": "ipython",
    "version": 3
   },
   "file_extension": ".py",
   "mimetype": "text/x-python",
   "name": "python",
   "nbconvert_exporter": "python",
   "pygments_lexer": "ipython3",
   "version": "3.8.5"
  }
 },
 "nbformat": 4,
 "nbformat_minor": 4
}
