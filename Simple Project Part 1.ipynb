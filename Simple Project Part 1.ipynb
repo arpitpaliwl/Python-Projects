{
 "cells": [
  {
   "cell_type": "markdown",
   "metadata": {},
   "source": [
    "# Welcome to the Band Name Generator:\n"
   ]
  },
  {
   "cell_type": "code",
   "execution_count": 1,
   "metadata": {},
   "outputs": [
    {
     "name": "stdout",
     "output_type": "stream",
     "text": [
      "What's name of the city you grew up in?\n",
      "America\n",
      "What's your pet's name?\n",
      "Pitbull\n",
      "Your band name could be America Pitbull.\n"
     ]
    }
   ],
   "source": [
    "#Prompt the user to enter the name of the city\n",
    "city_name = input(\"What's name of the city you grew up in?\\n\")\n",
    "\n",
    "#Prompt the user to enter the name of their Pet\n",
    "pet_name = input(\"What's your pet's name?\\n\")\n",
    "\n",
    "#Printing the name of the band using above inputs\n",
    "print(f\"Your band name could be {city_name} {pet_name}.\")"
   ]
  },
  {
   "cell_type": "markdown",
   "metadata": {},
   "source": [
    "# Welcome To The Bill Split Calculator!!"
   ]
  },
  {
   "cell_type": "code",
   "execution_count": 16,
   "metadata": {},
   "outputs": [
    {
     "name": "stdout",
     "output_type": "stream",
     "text": [
      "What is the total bill?: 200\n",
      "What % tip would you like to give?: 14\n",
      "How many friends are splitting the bill?: 6\n",
      "Tip amount: $28.00\n",
      "Total bill including tip: $228.0\n",
      "Each person owes: $38.00\n"
     ]
    }
   ],
   "source": [
    "total_bill = float(input(\"What is the total bill?: \"))\n",
    "percentage_tip = int(input(\"What % tip would you like to give?: \"))\n",
    "number_of_people = int(input(\"How many friends are splitting the bill?: \"))\n",
    "\n",
    "#Calculate the value each person owes based on the bill and tips the user entered\n",
    "payment_per_person = (\"%.2f\" % round(float(((percentage_tip / 100 +1) * total_bill) / number_of_people), 2))\n",
    "\n",
    "#Print the $ amount of the tip\n",
    "tip_amount = (\"%.2f\" % round(float(percentage_tip / 100 * total_bill),2))\n",
    "print(f\"Tip amount: ${tip_amount}\")\n",
    "\n",
    "#convert total bill and tip amount to floats to add those amounts\n",
    "total_bill_float = float(round(total_bill,2))\n",
    "tip_amount_float = float(tip_amount)\n",
    "tip_and_total = (total_bill_float+tip_amount_float)\n",
    "\n",
    "#Print Total bill with tip amount added\n",
    "print(f\"Total bill including tip: ${tip_and_total}\")\n",
    "\n",
    "#Print what each person needs to pay\n",
    "print(f\"Each person owes: ${payment_per_person}\")"
   ]
  },
  {
   "cell_type": "markdown",
   "metadata": {},
   "source": [
    "# Tresure Island"
   ]
  },
  {
   "cell_type": "code",
   "execution_count": 17,
   "metadata": {},
   "outputs": [
    {
     "name": "stdout",
     "output_type": "stream",
     "text": [
      "\n",
      "*******************************************************************************\n",
      "          |                   |                  |                     |\n",
      " _________|________________.=\"\"_;=.______________|_____________________|_______\n",
      "|                   |  ,-\"_,=\"\"     `\"=.|                  |\n",
      "|___________________|__\"=._o`\"-._        `\"=.______________|___________________\n",
      "          |                `\"=._o`\"=._      _`\"=._                     |\n",
      " _________|_____________________:=._o \"=._.\"_.-=\"'\"=.__________________|_______\n",
      "|                   |    __.--\" , ; `\"=._o.\" ,-\"\"\"-._ \".   |\n",
      "|___________________|_._\"  ,. .` ` `` ,  `\"-._\"-._   \". '__|___________________\n",
      "          |           |o`\"=._` , \"` `; .\". ,  \"-._\"-._; ;              |\n",
      " _________|___________| ;`-.o`\"=._; .\" ` '`.\"\\` . \"-._ /_______________|_______\n",
      "|                   | |o;    `\"-.o`\"=._``  '` \" ,__.--o;   |\n",
      "|___________________|_| ;     (#) `-.o `\"=.`_.--\"_o.-; ;___|___________________\n",
      "____/______/______/___|o;._    \"      `\".o|o_.--\"    ;o;____/______/______/____\n",
      "/______/______/______/_\"=._o--._        ; | ;        ; ;/______/______/______/_\n",
      "____/______/______/______/__\"=._o--._   ;o|o;     _._;o;____/______/______/____\n",
      "/______/______/______/______/____\"=._o._; | ;_.--\"o.--\"_/______/______/______/_\n",
      "____/______/______/______/______/_____\"=.o|o_.--\"\"___/______/______/______/____\n",
      "/______/______/______/______/______/______/______/______/______/______/_____ /\n",
      "*******************************************************************************\n",
      "\n",
      "Welcome to Treasure Island.\n"
     ]
    }
   ],
   "source": [
    "print('''\n",
    "*******************************************************************************\n",
    "          |                   |                  |                     |\n",
    " _________|________________.=\"\"_;=.______________|_____________________|_______\n",
    "|                   |  ,-\"_,=\"\"     `\"=.|                  |\n",
    "|___________________|__\"=._o`\"-._        `\"=.______________|___________________\n",
    "          |                `\"=._o`\"=._      _`\"=._                     |\n",
    " _________|_____________________:=._o \"=._.\"_.-=\"'\"=.__________________|_______\n",
    "|                   |    __.--\" , ; `\"=._o.\" ,-\"\"\"-._ \".   |\n",
    "|___________________|_._\"  ,. .` ` `` ,  `\"-._\"-._   \". '__|___________________\n",
    "          |           |o`\"=._` , \"` `; .\". ,  \"-._\"-._; ;              |\n",
    " _________|___________| ;`-.o`\"=._; .\" ` '`.\"\\` . \"-._ /_______________|_______\n",
    "|                   | |o;    `\"-.o`\"=._``  '` \" ,__.--o;   |\n",
    "|___________________|_| ;     (#) `-.o `\"=.`_.--\"_o.-; ;___|___________________\n",
    "____/______/______/___|o;._    \"      `\".o|o_.--\"    ;o;____/______/______/____\n",
    "/______/______/______/_\"=._o--._        ; | ;        ; ;/______/______/______/_\n",
    "____/______/______/______/__\"=._o--._   ;o|o;     _._;o;____/______/______/____\n",
    "/______/______/______/______/____\"=._o._; | ;_.--\"o.--\"_/______/______/______/_\n",
    "____/______/______/______/______/_____\"=.o|o_.--\"\"___/______/______/______/____\n",
    "/______/______/______/______/______/______/______/______/______/______/_____ /\n",
    "*******************************************************************************\n",
    "''')\n",
    "print(\"Welcome to Treasure Island.\")"
   ]
  },
  {
   "cell_type": "code",
   "execution_count": 18,
   "metadata": {},
   "outputs": [
    {
     "name": "stdout",
     "output_type": "stream",
     "text": [
      "Your mission is to find the treasure in the Island.\n",
      "Which island you want to go to look for treasure? Sundervan Delta\n",
      "Welcome to Sundervan Delta. Lets Start finding the treasure....\n",
      "You're at a cross road. Where do you want to go? Type \"left\" or \"right\" \n",
      "right\n",
      "You fell into a hole. Game Over!!\n"
     ]
    }
   ],
   "source": [
    "print(\"Your mission is to find the treasure in the Island.\")\n",
    "#Prompt for the user to enter Island name\n",
    "island_name= input(\"Which island you want to go to look for treasure? \")\n",
    "print(f\"Welcome to {island_name}. Lets Start finding the treasure....\")\n",
    "\n",
    "#Prompt to the user for making the choices\n",
    "choice1 = input('You\\'re at a cross road. Where do you want to go? Type \"left\" or \"right\" \\n').lower()\n",
    "if choice1 == \"left\":\n",
    "    choice2 = input('You\\'ve come to a lake. There is an island in the middle of the lake. Type \"wait\" to wait for a boat. Type \"swim\" to swim across. \\n').lower()\n",
    "    if choice2 == \"wait\":\n",
    "        choice3 = input(\"You arrive at the island unharmed. There is a house with 3 doors. One red, one yellow and one blue. Which colour do you choose? \\n\").lower()\n",
    "        if choice3 == \"red\":\n",
    "            print(\"It's a room full of fire. Game Over!!\")\n",
    "        elif choice3 == \"yellow\":\n",
    "              print(\"You found the treasure! You Win!\")\n",
    "        elif choice3 == \"blue\":\n",
    "              print(\"You enter a room of dragons. Game Over!!\")\n",
    "        else:\n",
    "            print(\"You choose a door that doesn't exist. Game Over!!\")\n",
    "    else:\n",
    "        print(\"You get attacked by an angry shark. Game Over!!\")\n",
    "else:\n",
    "    print(\"You fell into a hole. Game Over!!\")"
   ]
  },
  {
   "cell_type": "code",
   "execution_count": null,
   "metadata": {},
   "outputs": [],
   "source": []
  }
 ],
 "metadata": {
  "kernelspec": {
   "display_name": "Python 3",
   "language": "python",
   "name": "python3"
  },
  "language_info": {
   "codemirror_mode": {
    "name": "ipython",
    "version": 3
   },
   "file_extension": ".py",
   "mimetype": "text/x-python",
   "name": "python",
   "nbconvert_exporter": "python",
   "pygments_lexer": "ipython3",
   "version": "3.8.5"
  }
 },
 "nbformat": 4,
 "nbformat_minor": 4
}
