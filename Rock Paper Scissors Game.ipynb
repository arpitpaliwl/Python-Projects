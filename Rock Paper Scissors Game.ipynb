{
 "cells": [
  {
   "cell_type": "code",
   "execution_count": 4,
   "metadata": {},
   "outputs": [
    {
     "name": "stdout",
     "output_type": "stream",
     "text": [
      "The Rules of Rock paper scissor game will be follows: \n",
      "Rock wins against scissors. \n",
      "Scissors win against paper. \n",
      "Paper wins against rock. \n",
      "\n",
      "What do you choose? Type 0 for Rock, 1 for Paper or 2 for Scissors.\n",
      "3523\n",
      "Computer chose: 1\n",
      "\n",
      "    _______\n",
      "---'   ____)____\n",
      "          ______)\n",
      "          _______)\n",
      "         _______)\n",
      "---.__________)\n",
      "\n",
      "You typed an invalid number, you lose!\n"
     ]
    }
   ],
   "source": [
    "import random\n",
    "print(\"The Rules of Rock paper scissor game will be follows: \\n\"\n",
    "+\"Rock wins against scissors. \\n\"\n",
    "+\"Scissors win against paper. \\n\"\n",
    "+\"Paper wins against rock. \\n\")\n",
    "\n",
    "rock = '''\n",
    "    _______\n",
    "---'   ____)\n",
    "      (_____)\n",
    "      (_____)\n",
    "      (____)\n",
    "---.__(___)\n",
    "'''\n",
    "\n",
    "paper = '''\n",
    "    _______\n",
    "---'   ____)____\n",
    "          ______)\n",
    "          _______)\n",
    "         _______)\n",
    "---.__________)\n",
    "'''\n",
    "\n",
    "scissors = '''\n",
    "    _______\n",
    "---'   ____)____\n",
    "          ______)\n",
    "       __________)\n",
    "      (____)\n",
    "---.__(___)\n",
    "'''\n",
    "game_images = [rock, paper, scissors]\n",
    "user_action = int(input(\"What do you choose? Type 0 for Rock, 1 for Paper or 2 for Scissors.\\n\"))\n",
    "\n",
    "computer_action = random.randint(0, 2)\n",
    "print(f\"Computer chose: {computer_action}\")\n",
    "print(game_images[computer_action])\n",
    "\n",
    "if user_action >= 3 or user_action < 0: \n",
    "    print(\"You typed an invalid number, you lose!\") \n",
    "elif user_action == 0 and computer_action == 2:\n",
    "    print(\"You win!\")\n",
    "elif computer_action == 0 and user_action == 2:\n",
    "    print(\"You lose\")\n",
    "elif computer_action > user_action:\n",
    "    print(\"You lose\")\n",
    "elif user_action > computer_action:\n",
    "    print(\"You win!\")\n",
    "elif computer_choice == user_action:\n",
    "    print(\"It's a draw\")"
   ]
  },
  {
   "cell_type": "code",
   "execution_count": null,
   "metadata": {},
   "outputs": [],
   "source": []
  },
  {
   "cell_type": "code",
   "execution_count": null,
   "metadata": {},
   "outputs": [],
   "source": []
  }
 ],
 "metadata": {
  "kernelspec": {
   "display_name": "Python 3",
   "language": "python",
   "name": "python3"
  },
  "language_info": {
   "codemirror_mode": {
    "name": "ipython",
    "version": 3
   },
   "file_extension": ".py",
   "mimetype": "text/x-python",
   "name": "python",
   "nbconvert_exporter": "python",
   "pygments_lexer": "ipython3",
   "version": "3.8.5"
  }
 },
 "nbformat": 4,
 "nbformat_minor": 4
}
